{
 "cells": [
  {
   "cell_type": "code",
   "execution_count": 169,
   "metadata": {
    "collapsed": true
   },
   "outputs": [],
   "source": [
    "import cv2\n",
    "import pandas as pd\n",
    "from scipy import ndarray\n",
    "from matplotlib import pyplot as plt\n",
    "import numpy as np\n",
    "import os\n",
    "from sklearn.model_selection import train_test_split\n",
    "from sklearn.ensemble import GradientBoostingClassifier \n",
    "from sklearn.neighbors import KNeighborsClassifier\n",
    "from sklearn.externals import joblib\n",
    "from sklearn.metrics import accuracy_score\n",
    "from imutils.perspective import four_point_transform\n",
    "from imutils import contours\n",
    "import imutils\n",
    "import random\n",
    "import skimage as sk\n",
    "from PIL import Image\n",
    "import uuid\n",
    "\n",
    "path = \"Datasets/HQ_digital\"\n",
    "csv = \"Datasets/HQ_quality\"\n",
    "data = pd.read_csv(csv +'.csv', sep=';', index_col=0)"
   ]
  },
  {
   "cell_type": "markdown",
   "metadata": {},
   "source": [
    "# PREPROCESSING FUNCTIONS"
   ]
  },
  {
   "cell_type": "code",
   "execution_count": 8,
   "metadata": {
    "collapsed": true
   },
   "outputs": [],
   "source": [
    "#Run this function first\n",
    "def preprocess_and_find_display(image):\n",
    "    \n",
    "    image = imutils.resize(image.copy(), height=500)\n",
    "    gray = cv2.cvtColor(image, cv2.COLOR_BGR2GRAY)\n",
    "    ret,thresh = cv2.threshold(gray,127,255,1)\n",
    "    a,cnts,h = cv2.findContours(thresh,1,2)\n",
    "    cnts = sorted(cnts, key=cv2.contourArea, reverse=True)\n",
    "    displayCnt = None\n",
    "\n",
    "    for cnt in cnts:\n",
    "        approx = cv2.approxPolyDP(cnt,0.01*cv2.arcLength(cnt,True),True)\n",
    "        if len(approx)==4 and cv2.contourArea(approx) > 100*200 :\n",
    "            displayCnt = approx\n",
    "\n",
    "            break\n",
    "    warped = four_point_transform(gray, displayCnt.reshape(4, 2))\n",
    "    output = four_point_transform(image, displayCnt.reshape(4, 2))\n",
    "    plt.imshow(warped,cmap = 'gray')\n",
    "    plt.show()\n",
    "    \n",
    "    return warped, output"
   ]
  },
  {
   "cell_type": "code",
   "execution_count": 120,
   "metadata": {
    "collapsed": true
   },
   "outputs": [],
   "source": [
    "def crop_digits(image):\n",
    "    digits = []\n",
    "    image_width = image.shape[1]\n",
    "    cropped = image[10:160, 10:(round((3/5)*image_width))]\n",
    "    width = cropped.shape[1]\n",
    "    w_1 = cropped[:, -round(width/4):]\n",
    "    w_2 = cropped[:, -2*round(width/4):-round(width/4):]\n",
    "    w_3 = cropped[:, -3*round(width/4):-2*round(width/4):]\n",
    "    w_4 = cropped[:, :-3*round(width/4):]\n",
    "    digits.append(w_1)\n",
    "    digits.append(w_2)\n",
    "    digits.append(w_3)\n",
    "    digits.append(w_4)\n",
    "    return digits\n",
    "\n",
    "def suppress_black_contour(image, th_pix_blanc):\n",
    "    h, w = image.shape\n",
    "    nb_pix_rect = 0 # left crop\n",
    "    x = 0\n",
    "    while nb_pix_rect <th_pix_blanc:\n",
    "        left_rect = image[:,:x]\n",
    "        nb_pix_rect = np.sum(left_rect == 255)\n",
    "        x += 1\n",
    "    img = image[:, x +1 :]\n",
    "    nb_pix_rect = 0 # right crop\n",
    "    x = 0\n",
    "    while nb_pix_rect <th_pix_blanc:\n",
    "        right_rect = image[:,w-x:]\n",
    "        nb_pix_rect = np.sum(right_rect == 255)\n",
    "        x += 1\n",
    "    img = img[:, :w-x +1]\n",
    "    nb_pix_rect = 0  # top crop\n",
    "    x = 0\n",
    "    while nb_pix_rect <th_pix_blanc/3:\n",
    "        top_rect = image[h-x +1:,:]\n",
    "        nb_pix_rect = np.sum(top_rect == 255)\n",
    "        x += 1\n",
    "    img = img[:h-x, :]\n",
    "    nb_pix_rect = 0 # bottom crop\n",
    "    x = 0\n",
    "    while nb_pix_rect <th_pix_blanc/3:\n",
    "        bot_rect = image[:x,:]\n",
    "        nb_pix_rect = np.sum(bot_rect == 255)\n",
    "        x += 1\n",
    "    img = img[x+1:, :]\n",
    "    return img\n",
    "\n",
    "def clean_digits(digits, th_pix_blanc_tot, th_pix_blanc_sup):\n",
    "    digits_clean = []\n",
    "    stop = 0\n",
    "    nb_digits = 0\n",
    "    for i in range(4):\n",
    "        image = digits[i]\n",
    "        blurred = cv2.bilateralFilter(image, 10, 10, 100)\n",
    "        thresh = cv2.adaptiveThreshold(blurred, 255, cv2.ADAPTIVE_THRESH_GAUSSIAN_C,\n",
    "                                   cv2.THRESH_BINARY, 17, 2)\n",
    "        inv = cv2.bitwise_not(thresh)\n",
    "        kernel = np.ones((7,7), np.uint8)\n",
    "        closing = cv2.morphologyEx(inv, cv2.MORPH_CLOSE, kernel)\n",
    "        dilatation = cv2.dilate(closing, np.ones((3,3), np.uint8), iterations = 2)\n",
    "        plt.imshow(dilatation, cmap = \"gray\")\n",
    "        k = np.sum(dilatation == 255)\n",
    "        print(k)\n",
    "        if k > th_pix_blanc_tot and stop == 0:\n",
    "            im2 = suppress_black_contour(dilatation, th_pix_blanc_sup)\n",
    "            h, w = im2.shape\n",
    "            if h> 80 and w >25: # pour ne pas garder les petits coins d'images tout blancs\n",
    "                im3 = cv2.resize(im2, (80,50)).flatten()\n",
    "                digits_clean.append(im3)\n",
    "                #plt.imshow(im2,cmap = \"gray\")\n",
    "                #plt.show()\n",
    "                nb_digits +=1\n",
    "            else:\n",
    "                stop = 1\n",
    "        digits_clean = digits_clean[::-1]\n",
    "    return digits_clean, nb_digits"
   ]
  },
  {
   "cell_type": "code",
   "execution_count": 121,
   "metadata": {
    "collapsed": true
   },
   "outputs": [],
   "source": [
    "#### TOTAL PREPROCESSING PIPELINE ######\n",
    "\n",
    "def digits_clean_loc(i, h_noise, h_2, lowThreshold, t, t_2):\n",
    "    image = cv2.imread(path + '/' + data.loc[i, 'image'])\n",
    "    image_name = data.loc[i, 'image']\n",
    "    # pre-process the image\n",
    "    warped, output = preprocess_and_find_display(image)\n",
    "    digits = crop_digits(warped)\n",
    "    digits_clean, n = clean_digits(digits, th_pix_blanc_tot, th_pix_blanc_sup)    \n",
    "    return (image_name, digits_clean)"
   ]
  },
  {
   "cell_type": "markdown",
   "metadata": {},
   "source": [
    "# PREPROCESSING"
   ]
  },
  {
   "cell_type": "raw",
   "metadata": {},
   "source": [
    "###### PARAMETERS TO CHOOSE #######\n",
    "i = 1\n",
    "h_noise = 10 # noise coefficient\n",
    "h_2 = 15\n",
    "lowThreshold = 50 # canny edge detection\n",
    "t = 150 # threshold to separate white/black\n",
    "t_2 = 150\n",
    "th_pix_blanc_tot = 150\n",
    "th_pix_blanc_sup = 60\n",
    "\n",
    "#################################\n",
    "\n",
    "clean_list_images = []\n",
    "for i in range(0, data.shape[0]):\n",
    "    print(i)\n",
    "    try:\n",
    "        clean_list_images.append(digits_clean_loc(i,10,15,50,150,150))\n",
    "    except AttributeError:\n",
    "        pass\n",
    "len(clean_list_images)\n",
    "\n",
    "# dataframe with name and list of arrays for the digits\n",
    "prediction_data = pd.DataFrame(clean_list_images, columns = ['image', 'flatten_arrays'])\n",
    "prediction_data.head()"
   ]
  },
  {
   "cell_type": "markdown",
   "metadata": {},
   "source": [
    "# Getting the labels"
   ]
  },
  {
   "cell_type": "code",
   "execution_count": 123,
   "metadata": {},
   "outputs": [
    {
     "data": {
      "text/html": [
       "<div>\n",
       "<style>\n",
       "    .dataframe thead tr:only-child th {\n",
       "        text-align: right;\n",
       "    }\n",
       "\n",
       "    .dataframe thead th {\n",
       "        text-align: left;\n",
       "    }\n",
       "\n",
       "    .dataframe tbody tr th {\n",
       "        vertical-align: top;\n",
       "    }\n",
       "</style>\n",
       "<table border=\"1\" class=\"dataframe\">\n",
       "  <thead>\n",
       "    <tr style=\"text-align: right;\">\n",
       "      <th></th>\n",
       "      <th>used_liter</th>\n",
       "      <th>image</th>\n",
       "      <th>used_liter2</th>\n",
       "      <th>flatten_arrays</th>\n",
       "    </tr>\n",
       "  </thead>\n",
       "  <tbody>\n",
       "    <tr>\n",
       "      <th>0</th>\n",
       "      <td>33</td>\n",
       "      <td>e104664ba1792dde641d87cd5d95f1df06786140.jpg</td>\n",
       "      <td>33</td>\n",
       "      <td>[[0, 0, 0, 0, 198, 255, 255, 255, 255, 255, 25...</td>\n",
       "    </tr>\n",
       "    <tr>\n",
       "      <th>1</th>\n",
       "      <td>29</td>\n",
       "      <td>48990b5cbe173868040bd33f06fb1b80c2b4f28a.jpg</td>\n",
       "      <td>29</td>\n",
       "      <td>[[0, 0, 0, 0, 0, 0, 0, 0, 0, 0, 0, 0, 0, 0, 0,...</td>\n",
       "    </tr>\n",
       "    <tr>\n",
       "      <th>2</th>\n",
       "      <td>230</td>\n",
       "      <td>9e111802446b62b86aeffe911415ad28227caba7.jpg</td>\n",
       "      <td>230</td>\n",
       "      <td>[[255, 255, 255, 255, 255, 255, 255, 255, 255,...</td>\n",
       "    </tr>\n",
       "    <tr>\n",
       "      <th>3</th>\n",
       "      <td>43</td>\n",
       "      <td>f78fe5a461f28bc770a7dd856878bb4a314a9027.jpg</td>\n",
       "      <td>43</td>\n",
       "      <td>[]</td>\n",
       "    </tr>\n",
       "    <tr>\n",
       "      <th>4</th>\n",
       "      <td>238</td>\n",
       "      <td>c836ea17748e562c99f93edc51f2b900664ec37d.jpg</td>\n",
       "      <td>238</td>\n",
       "      <td>[[0, 0, 0, 0, 68, 255, 255, 255, 255, 255, 255...</td>\n",
       "    </tr>\n",
       "  </tbody>\n",
       "</table>\n",
       "</div>"
      ],
      "text/plain": [
       "   used_liter                                         image used_liter2  \\\n",
       "0          33  e104664ba1792dde641d87cd5d95f1df06786140.jpg          33   \n",
       "1          29  48990b5cbe173868040bd33f06fb1b80c2b4f28a.jpg          29   \n",
       "2         230  9e111802446b62b86aeffe911415ad28227caba7.jpg         230   \n",
       "3          43  f78fe5a461f28bc770a7dd856878bb4a314a9027.jpg          43   \n",
       "4         238  c836ea17748e562c99f93edc51f2b900664ec37d.jpg         238   \n",
       "\n",
       "                                      flatten_arrays  \n",
       "0  [[0, 0, 0, 0, 198, 255, 255, 255, 255, 255, 25...  \n",
       "1  [[0, 0, 0, 0, 0, 0, 0, 0, 0, 0, 0, 0, 0, 0, 0,...  \n",
       "2  [[255, 255, 255, 255, 255, 255, 255, 255, 255,...  \n",
       "3                                                 []  \n",
       "4  [[0, 0, 0, 0, 68, 255, 255, 255, 255, 255, 255...  "
      ]
     },
     "execution_count": 123,
     "metadata": {},
     "output_type": "execute_result"
    }
   ],
   "source": [
    "def new_labels(old_label):\n",
    "    number_str = str(old_label)\n",
    "    if len(number_str) == 1:\n",
    "        return '   ' + number_str\n",
    "    if len(number_str) == 2:\n",
    "        return '  ' + number_str\n",
    "    if len(number_str) == 3:\n",
    "        return ' ' + number_str\n",
    "    if len(number_str) == 4:\n",
    "        return number_str\n",
    "    \n",
    "#define new column for the labels, where each of the label is a string of length 4\n",
    "data['used_liter2'] = data['used_liter'].apply(lambda x: new_labels(x))\n",
    "full_data = pd.merge(data, prediction_data, on= 'image').copy()\n",
    "full_data.head()"
   ]
  },
  {
   "cell_type": "markdown",
   "metadata": {},
   "source": [
    "# For the flatten arrays"
   ]
  },
  {
   "cell_type": "code",
   "execution_count": 124,
   "metadata": {
    "scrolled": true
   },
   "outputs": [
    {
     "data": {
      "text/html": [
       "<div>\n",
       "<style>\n",
       "    .dataframe thead tr:only-child th {\n",
       "        text-align: right;\n",
       "    }\n",
       "\n",
       "    .dataframe thead th {\n",
       "        text-align: left;\n",
       "    }\n",
       "\n",
       "    .dataframe tbody tr th {\n",
       "        vertical-align: top;\n",
       "    }\n",
       "</style>\n",
       "<table border=\"1\" class=\"dataframe\">\n",
       "  <thead>\n",
       "    <tr style=\"text-align: right;\">\n",
       "      <th></th>\n",
       "      <th>used_liter</th>\n",
       "      <th>image</th>\n",
       "      <th>used_liter2</th>\n",
       "      <th>flatten_arrays</th>\n",
       "      <th>n_digits</th>\n",
       "    </tr>\n",
       "  </thead>\n",
       "  <tbody>\n",
       "    <tr>\n",
       "      <th>0</th>\n",
       "      <td>33</td>\n",
       "      <td>e104664ba1792dde641d87cd5d95f1df06786140.jpg</td>\n",
       "      <td>33</td>\n",
       "      <td>[[0, 0, 0, 0, 198, 255, 255, 255, 255, 255, 25...</td>\n",
       "      <td>2</td>\n",
       "    </tr>\n",
       "    <tr>\n",
       "      <th>1</th>\n",
       "      <td>29</td>\n",
       "      <td>48990b5cbe173868040bd33f06fb1b80c2b4f28a.jpg</td>\n",
       "      <td>29</td>\n",
       "      <td>[[0, 0, 0, 0, 0, 0, 0, 0, 0, 0, 0, 0, 0, 0, 0,...</td>\n",
       "      <td>3</td>\n",
       "    </tr>\n",
       "    <tr>\n",
       "      <th>2</th>\n",
       "      <td>230</td>\n",
       "      <td>9e111802446b62b86aeffe911415ad28227caba7.jpg</td>\n",
       "      <td>230</td>\n",
       "      <td>[[255, 255, 255, 255, 255, 255, 255, 255, 255,...</td>\n",
       "      <td>3</td>\n",
       "    </tr>\n",
       "    <tr>\n",
       "      <th>3</th>\n",
       "      <td>43</td>\n",
       "      <td>f78fe5a461f28bc770a7dd856878bb4a314a9027.jpg</td>\n",
       "      <td>43</td>\n",
       "      <td>[]</td>\n",
       "      <td>0</td>\n",
       "    </tr>\n",
       "    <tr>\n",
       "      <th>4</th>\n",
       "      <td>238</td>\n",
       "      <td>c836ea17748e562c99f93edc51f2b900664ec37d.jpg</td>\n",
       "      <td>238</td>\n",
       "      <td>[[0, 0, 0, 0, 68, 255, 255, 255, 255, 255, 255...</td>\n",
       "      <td>3</td>\n",
       "    </tr>\n",
       "  </tbody>\n",
       "</table>\n",
       "</div>"
      ],
      "text/plain": [
       "   used_liter                                         image used_liter2  \\\n",
       "0          33  e104664ba1792dde641d87cd5d95f1df06786140.jpg          33   \n",
       "1          29  48990b5cbe173868040bd33f06fb1b80c2b4f28a.jpg          29   \n",
       "2         230  9e111802446b62b86aeffe911415ad28227caba7.jpg         230   \n",
       "3          43  f78fe5a461f28bc770a7dd856878bb4a314a9027.jpg          43   \n",
       "4         238  c836ea17748e562c99f93edc51f2b900664ec37d.jpg         238   \n",
       "\n",
       "                                      flatten_arrays  n_digits  \n",
       "0  [[0, 0, 0, 0, 198, 255, 255, 255, 255, 255, 25...         2  \n",
       "1  [[0, 0, 0, 0, 0, 0, 0, 0, 0, 0, 0, 0, 0, 0, 0,...         3  \n",
       "2  [[255, 255, 255, 255, 255, 255, 255, 255, 255,...         3  \n",
       "3                                                 []         0  \n",
       "4  [[0, 0, 0, 0, 68, 255, 255, 255, 255, 255, 255...         3  "
      ]
     },
     "execution_count": 124,
     "metadata": {},
     "output_type": "execute_result"
    }
   ],
   "source": [
    "full_data['n_digits'] = [len(i) for i in full_data.flatten_arrays]\n",
    "full_data.head()"
   ]
  },
  {
   "cell_type": "code",
   "execution_count": 125,
   "metadata": {},
   "outputs": [
    {
     "data": {
      "text/html": [
       "<div>\n",
       "<style>\n",
       "    .dataframe thead tr:only-child th {\n",
       "        text-align: right;\n",
       "    }\n",
       "\n",
       "    .dataframe thead th {\n",
       "        text-align: left;\n",
       "    }\n",
       "\n",
       "    .dataframe tbody tr th {\n",
       "        vertical-align: top;\n",
       "    }\n",
       "</style>\n",
       "<table border=\"1\" class=\"dataframe\">\n",
       "  <thead>\n",
       "    <tr style=\"text-align: right;\">\n",
       "      <th></th>\n",
       "      <th>used_liter</th>\n",
       "      <th>image</th>\n",
       "      <th>used_liter2</th>\n",
       "      <th>flatten_arrays</th>\n",
       "      <th>n_digits</th>\n",
       "      <th>used_liter3</th>\n",
       "    </tr>\n",
       "  </thead>\n",
       "  <tbody>\n",
       "    <tr>\n",
       "      <th>0</th>\n",
       "      <td>33</td>\n",
       "      <td>e104664ba1792dde641d87cd5d95f1df06786140.jpg</td>\n",
       "      <td>33</td>\n",
       "      <td>[[0, 0, 0, 0, 198, 255, 255, 255, 255, 255, 25...</td>\n",
       "      <td>2</td>\n",
       "      <td>33</td>\n",
       "    </tr>\n",
       "    <tr>\n",
       "      <th>1</th>\n",
       "      <td>29</td>\n",
       "      <td>48990b5cbe173868040bd33f06fb1b80c2b4f28a.jpg</td>\n",
       "      <td>29</td>\n",
       "      <td>[[0, 0, 0, 0, 0, 0, 0, 0, 0, 0, 0, 0, 0, 0, 0,...</td>\n",
       "      <td>3</td>\n",
       "      <td>29</td>\n",
       "    </tr>\n",
       "    <tr>\n",
       "      <th>2</th>\n",
       "      <td>230</td>\n",
       "      <td>9e111802446b62b86aeffe911415ad28227caba7.jpg</td>\n",
       "      <td>230</td>\n",
       "      <td>[[255, 255, 255, 255, 255, 255, 255, 255, 255,...</td>\n",
       "      <td>3</td>\n",
       "      <td>230</td>\n",
       "    </tr>\n",
       "    <tr>\n",
       "      <th>3</th>\n",
       "      <td>43</td>\n",
       "      <td>f78fe5a461f28bc770a7dd856878bb4a314a9027.jpg</td>\n",
       "      <td>43</td>\n",
       "      <td>[]</td>\n",
       "      <td>0</td>\n",
       "      <td></td>\n",
       "    </tr>\n",
       "    <tr>\n",
       "      <th>4</th>\n",
       "      <td>238</td>\n",
       "      <td>c836ea17748e562c99f93edc51f2b900664ec37d.jpg</td>\n",
       "      <td>238</td>\n",
       "      <td>[[0, 0, 0, 0, 68, 255, 255, 255, 255, 255, 255...</td>\n",
       "      <td>3</td>\n",
       "      <td>238</td>\n",
       "    </tr>\n",
       "  </tbody>\n",
       "</table>\n",
       "</div>"
      ],
      "text/plain": [
       "   used_liter                                         image used_liter2  \\\n",
       "0          33  e104664ba1792dde641d87cd5d95f1df06786140.jpg          33   \n",
       "1          29  48990b5cbe173868040bd33f06fb1b80c2b4f28a.jpg          29   \n",
       "2         230  9e111802446b62b86aeffe911415ad28227caba7.jpg         230   \n",
       "3          43  f78fe5a461f28bc770a7dd856878bb4a314a9027.jpg          43   \n",
       "4         238  c836ea17748e562c99f93edc51f2b900664ec37d.jpg         238   \n",
       "\n",
       "                                      flatten_arrays  n_digits used_liter3  \n",
       "0  [[0, 0, 0, 0, 198, 255, 255, 255, 255, 255, 25...         2          33  \n",
       "1  [[0, 0, 0, 0, 0, 0, 0, 0, 0, 0, 0, 0, 0, 0, 0,...         3          29  \n",
       "2  [[255, 255, 255, 255, 255, 255, 255, 255, 255,...         3         230  \n",
       "3                                                 []         0              \n",
       "4  [[0, 0, 0, 0, 68, 255, 255, 255, 255, 255, 255...         3         238  "
      ]
     },
     "execution_count": 125,
     "metadata": {},
     "output_type": "execute_result"
    }
   ],
   "source": [
    "def true_digit_numbers(string_column, digits_column): \n",
    "    new_column = string_column[(4-digits_column):]\n",
    "    return new_column \n",
    "\n",
    "full_data['used_liter3'] = [true_digit_numbers(x,y) for x,y in zip(full_data['used_liter2'], full_data['n_digits'])]\n",
    "full_data.head()"
   ]
  },
  {
   "cell_type": "code",
   "execution_count": 126,
   "metadata": {
    "collapsed": true
   },
   "outputs": [],
   "source": [
    "digit_data = full_data[['used_liter3','flatten_arrays']]\n",
    "digit_label = [small_number for big_number in digit_data['used_liter3'] for small_number in big_number]\n",
    "digit_array = [array for list_of_arrays in digit_data['flatten_arrays'] for array in list_of_arrays]"
   ]
  },
  {
   "cell_type": "code",
   "execution_count": 127,
   "metadata": {},
   "outputs": [
    {
     "data": {
      "text/html": [
       "<div>\n",
       "<style>\n",
       "    .dataframe thead tr:only-child th {\n",
       "        text-align: right;\n",
       "    }\n",
       "\n",
       "    .dataframe thead th {\n",
       "        text-align: left;\n",
       "    }\n",
       "\n",
       "    .dataframe tbody tr th {\n",
       "        vertical-align: top;\n",
       "    }\n",
       "</style>\n",
       "<table border=\"1\" class=\"dataframe\">\n",
       "  <thead>\n",
       "    <tr style=\"text-align: right;\">\n",
       "      <th></th>\n",
       "      <th>array</th>\n",
       "      <th>label</th>\n",
       "    </tr>\n",
       "  </thead>\n",
       "  <tbody>\n",
       "    <tr>\n",
       "      <th>0</th>\n",
       "      <td>[0, 0, 0, 0, 198, 255, 255, 255, 255, 255, 255...</td>\n",
       "      <td>3</td>\n",
       "    </tr>\n",
       "    <tr>\n",
       "      <th>1</th>\n",
       "      <td>[0, 0, 0, 0, 0, 115, 255, 255, 255, 255, 255, ...</td>\n",
       "      <td>3</td>\n",
       "    </tr>\n",
       "    <tr>\n",
       "      <th>2</th>\n",
       "      <td>[0, 0, 0, 0, 0, 0, 0, 0, 0, 0, 0, 0, 0, 0, 0, ...</td>\n",
       "      <td></td>\n",
       "    </tr>\n",
       "    <tr>\n",
       "      <th>3</th>\n",
       "      <td>[0, 0, 0, 0, 0, 0, 0, 0, 0, 0, 0, 0, 0, 0, 0, ...</td>\n",
       "      <td>2</td>\n",
       "    </tr>\n",
       "    <tr>\n",
       "      <th>4</th>\n",
       "      <td>[0, 0, 0, 0, 0, 0, 0, 0, 0, 0, 0, 0, 0, 0, 0, ...</td>\n",
       "      <td>9</td>\n",
       "    </tr>\n",
       "  </tbody>\n",
       "</table>\n",
       "</div>"
      ],
      "text/plain": [
       "                                               array label\n",
       "0  [0, 0, 0, 0, 198, 255, 255, 255, 255, 255, 255...     3\n",
       "1  [0, 0, 0, 0, 0, 115, 255, 255, 255, 255, 255, ...     3\n",
       "2  [0, 0, 0, 0, 0, 0, 0, 0, 0, 0, 0, 0, 0, 0, 0, ...      \n",
       "3  [0, 0, 0, 0, 0, 0, 0, 0, 0, 0, 0, 0, 0, 0, 0, ...     2\n",
       "4  [0, 0, 0, 0, 0, 0, 0, 0, 0, 0, 0, 0, 0, 0, 0, ...     9"
      ]
     },
     "execution_count": 127,
     "metadata": {},
     "output_type": "execute_result"
    }
   ],
   "source": [
    "digit_result = pd.DataFrame(\n",
    "    {'label': digit_label,\n",
    "     'array': digit_array\n",
    "    })\n",
    "\n",
    "digit_result.head()"
   ]
  },
  {
   "cell_type": "markdown",
   "metadata": {},
   "source": [
    "# PREDICTION PART"
   ]
  },
  {
   "cell_type": "markdown",
   "metadata": {},
   "source": [
    "## Data Augmentation"
   ]
  },
  {
   "cell_type": "raw",
   "metadata": {},
   "source": [
    "# to get an even distribution between classes\n",
    "\n",
    "def random_rotation(image):\n",
    "    random_degree = random.uniform(-25, 25)\n",
    "    return sk.transform.rotate(image, random_degree)\n",
    "\n",
    "def random_noise(image):\n",
    "    return sk.util.random_noise(image)\n",
    "\n",
    "\n",
    "available_transformations = {\n",
    "    'rotate': random_rotation,\n",
    "    'noise': random_noise,\n",
    "}\n",
    "\n",
    "num_transformations_to_apply = random.randint(1, len(available_transformations))\n",
    "\n",
    "transformed_image = None\n",
    "num_tot = 90\n",
    "\n",
    "for l in range(0,10):\n",
    "    training_dir = 'Digits/' + str(l) + '/'# loop on all files of the folder and build a list of files paths\n",
    "    images = [os.path.join(training_dir, f) for f in os.listdir(training_dir) if os.path.isfile(os.path.join(training_dir, f))]\n",
    "    num = len(images)\n",
    "    while num <= num_tot:\n",
    "        image_path = random.choice(images)\n",
    "        image_to_transform = sk.io.imread(image_path)\n",
    "        key = random.choice(list(available_transformations))\n",
    "        transformed_image = available_transformations[key](image_to_transform)\n",
    "        sk.io.imsave('{}/augm_img_{}.jpg'.format(training_dir, num), transformed_image)\n",
    "        num += 1\n"
   ]
  },
  {
   "cell_type": "markdown",
   "metadata": {},
   "source": [
    "## KNN Image recognition"
   ]
  },
  {
   "cell_type": "code",
   "execution_count": 173,
   "metadata": {
    "scrolled": true
   },
   "outputs": [
    {
     "name": "stdout",
     "output_type": "stream",
     "text": [
      " Validation score of the model:  0.9516129032258065\n"
     ]
    }
   ],
   "source": [
    "labels = []\n",
    "pixels = []\n",
    "\n",
    "for l in range(0,10):\n",
    "    training_dir = 'Digits/' + str(l) + '/'\n",
    "    for filename in os.listdir(training_dir):\n",
    "        if (filename.endswith('.jpg')):\n",
    "            training_digit_image = cv2.imread(training_dir + filename)\n",
    "            training_digit = cv2.cvtColor(training_digit_image, cv2.COLOR_BGR2GRAY)\n",
    "            inv_image = cv2.threshold(training_digit, 150, 255, cv2.THRESH_BINARY_INV)[1]\n",
    "            resized_image = cv2.resize(inv_image, (80,50)).flatten()\n",
    "            pixels.append(np.array(resized_image))    \n",
    "            labels.append(l)\n",
    "\n",
    "# we add to the training set some cropped digits labelled by hand, coming from the images\n",
    "for l in range(0,10):\n",
    "    training_dir = 'Digits_by_hand/' + str(l) + '/'\n",
    "    for filename in os.listdir(training_dir):\n",
    "        if (filename.endswith('.jpg')):\n",
    "            training_digit_image = cv2.imread(training_dir + filename)\n",
    "            training_digit = cv2.cvtColor(training_digit_image, cv2.COLOR_BGR2GRAY)            \n",
    "            resized_image = cv2.resize(training_digit, (80,50)).flatten()\n",
    "            pixels.append(np.array(resized_image))    \n",
    "            labels.append(l)\n",
    "                    \n",
    "\n",
    "# store features array into a numpy array\n",
    "features  = np.array(pixels, 'float64')\n",
    "# split the labled dataset into training / test sets\n",
    "X_train, X_test, y_train, y_test = train_test_split(features, labels, test_size=.25)\n",
    "# train using K-NN\n",
    "knn = KNeighborsClassifier(n_neighbors=1)\n",
    "knn.fit(X_train, y_train)\n",
    "\n",
    "# get the model accuracy\n",
    "model_score_knn = knn.score(X_test, y_test)\n",
    "print(' Validation score of the model: ', model_score_knn)"
   ]
  },
  {
   "cell_type": "markdown",
   "metadata": {},
   "source": [
    "# Prediction on each image"
   ]
  },
  {
   "cell_type": "code",
   "execution_count": 150,
   "metadata": {},
   "outputs": [
    {
     "data": {
      "text/html": [
       "<div>\n",
       "<style>\n",
       "    .dataframe thead tr:only-child th {\n",
       "        text-align: right;\n",
       "    }\n",
       "\n",
       "    .dataframe thead th {\n",
       "        text-align: left;\n",
       "    }\n",
       "\n",
       "    .dataframe tbody tr th {\n",
       "        vertical-align: top;\n",
       "    }\n",
       "</style>\n",
       "<table border=\"1\" class=\"dataframe\">\n",
       "  <thead>\n",
       "    <tr style=\"text-align: right;\">\n",
       "      <th></th>\n",
       "      <th>used_liter</th>\n",
       "      <th>image</th>\n",
       "      <th>used_liter2</th>\n",
       "      <th>flatten_arrays</th>\n",
       "      <th>n_digits</th>\n",
       "      <th>used_liter3</th>\n",
       "      <th>prediction</th>\n",
       "    </tr>\n",
       "  </thead>\n",
       "  <tbody>\n",
       "    <tr>\n",
       "      <th>0</th>\n",
       "      <td>33</td>\n",
       "      <td>e104664ba1792dde641d87cd5d95f1df06786140.jpg</td>\n",
       "      <td>33</td>\n",
       "      <td>[[0, 0, 0, 0, 198, 255, 255, 255, 255, 255, 25...</td>\n",
       "      <td>2</td>\n",
       "      <td>33</td>\n",
       "      <td>33</td>\n",
       "    </tr>\n",
       "    <tr>\n",
       "      <th>1</th>\n",
       "      <td>29</td>\n",
       "      <td>48990b5cbe173868040bd33f06fb1b80c2b4f28a.jpg</td>\n",
       "      <td>29</td>\n",
       "      <td>[[0, 0, 0, 0, 0, 0, 0, 0, 0, 0, 0, 0, 0, 0, 0,...</td>\n",
       "      <td>3</td>\n",
       "      <td>29</td>\n",
       "      <td>241</td>\n",
       "    </tr>\n",
       "    <tr>\n",
       "      <th>2</th>\n",
       "      <td>230</td>\n",
       "      <td>9e111802446b62b86aeffe911415ad28227caba7.jpg</td>\n",
       "      <td>230</td>\n",
       "      <td>[[255, 255, 255, 255, 255, 255, 255, 255, 255,...</td>\n",
       "      <td>3</td>\n",
       "      <td>230</td>\n",
       "      <td>312</td>\n",
       "    </tr>\n",
       "    <tr>\n",
       "      <th>3</th>\n",
       "      <td>43</td>\n",
       "      <td>f78fe5a461f28bc770a7dd856878bb4a314a9027.jpg</td>\n",
       "      <td>43</td>\n",
       "      <td>[]</td>\n",
       "      <td>0</td>\n",
       "      <td></td>\n",
       "      <td>-1</td>\n",
       "    </tr>\n",
       "    <tr>\n",
       "      <th>4</th>\n",
       "      <td>238</td>\n",
       "      <td>c836ea17748e562c99f93edc51f2b900664ec37d.jpg</td>\n",
       "      <td>238</td>\n",
       "      <td>[[0, 0, 0, 0, 68, 255, 255, 255, 255, 255, 255...</td>\n",
       "      <td>3</td>\n",
       "      <td>238</td>\n",
       "      <td>382</td>\n",
       "    </tr>\n",
       "  </tbody>\n",
       "</table>\n",
       "</div>"
      ],
      "text/plain": [
       "   used_liter                                         image used_liter2  \\\n",
       "0          33  e104664ba1792dde641d87cd5d95f1df06786140.jpg          33   \n",
       "1          29  48990b5cbe173868040bd33f06fb1b80c2b4f28a.jpg          29   \n",
       "2         230  9e111802446b62b86aeffe911415ad28227caba7.jpg         230   \n",
       "3          43  f78fe5a461f28bc770a7dd856878bb4a314a9027.jpg          43   \n",
       "4         238  c836ea17748e562c99f93edc51f2b900664ec37d.jpg         238   \n",
       "\n",
       "                                      flatten_arrays  n_digits used_liter3  \\\n",
       "0  [[0, 0, 0, 0, 198, 255, 255, 255, 255, 255, 25...         2          33   \n",
       "1  [[0, 0, 0, 0, 0, 0, 0, 0, 0, 0, 0, 0, 0, 0, 0,...         3          29   \n",
       "2  [[255, 255, 255, 255, 255, 255, 255, 255, 255,...         3         230   \n",
       "3                                                 []         0               \n",
       "4  [[0, 0, 0, 0, 68, 255, 255, 255, 255, 255, 255...         3         238   \n",
       "\n",
       "   prediction  \n",
       "0          33  \n",
       "1         241  \n",
       "2         312  \n",
       "3          -1  \n",
       "4         382  "
      ]
     },
     "execution_count": 150,
     "metadata": {},
     "output_type": "execute_result"
    }
   ],
   "source": [
    "def knn_prediction(full_image):\n",
    "    test = np.array(full_image, 'float64')\n",
    "    try: \n",
    "        y = knn.predict(test)\n",
    "        y_string = [str(x) for x in y]\n",
    "        final_y = int(''.join(y_string))\n",
    "    except ValueError:\n",
    "        y = 'ValueError'\n",
    "        final_y = -1\n",
    "    return final_y  \n",
    "\n",
    "full_data['prediction'] = [knn_prediction(list_of_arrays) for list_of_arrays in full_data['flatten_arrays']]\n",
    "full_data.head()"
   ]
  },
  {
   "cell_type": "code",
   "execution_count": 184,
   "metadata": {},
   "outputs": [
    {
     "name": "stdout",
     "output_type": "stream",
     "text": [
      "Ratio of images for which we could not detect any digits: 0.12272727272727273\n",
      "Number of images for which we found digits: 193\n"
     ]
    }
   ],
   "source": [
    "print('Ratio of images for which we could not detect any digits:', sum(full_data.prediction == -1) / full_data.shape[0])\n",
    "print('Number of images for which we found digits:', sum(full_data.prediction != -1))\n",
    "\n",
    "# We detected 220 screen rectangles out of 240 but some of them were corrupted"
   ]
  },
  {
   "cell_type": "code",
   "execution_count": 183,
   "metadata": {},
   "outputs": [
    {
     "name": "stdout",
     "output_type": "stream",
     "text": [
      "Percentage of accurate prediction within 10 units :  0.21761658031088082\n",
      "Number of accurate prediction 10 units : 46\n"
     ]
    }
   ],
   "source": [
    "test_data = full_data[full_data.prediction != -1].copy()\n",
    "test_data['error'] = abs(test_data['used_liter'] - test_data['prediction'])\n",
    "print('Percentage of accurate prediction within 10 units : ', sum(test_data['error'] < 10) / test_data.shape[0])\n",
    "print('Number of accurate prediction 10 units :', test_data[test_data['error'] <= 10].shape[0])"
   ]
  },
  {
   "cell_type": "markdown",
   "metadata": {},
   "source": [
    "# Prediction digit per digit "
   ]
  },
  {
   "cell_type": "code",
   "execution_count": 189,
   "metadata": {},
   "outputs": [
    {
     "data": {
      "text/html": [
       "<div>\n",
       "<style>\n",
       "    .dataframe thead tr:only-child th {\n",
       "        text-align: right;\n",
       "    }\n",
       "\n",
       "    .dataframe thead th {\n",
       "        text-align: left;\n",
       "    }\n",
       "\n",
       "    .dataframe tbody tr th {\n",
       "        vertical-align: top;\n",
       "    }\n",
       "</style>\n",
       "<table border=\"1\" class=\"dataframe\">\n",
       "  <thead>\n",
       "    <tr style=\"text-align: right;\">\n",
       "      <th></th>\n",
       "      <th>array</th>\n",
       "      <th>label</th>\n",
       "      <th>prediction</th>\n",
       "    </tr>\n",
       "  </thead>\n",
       "  <tbody>\n",
       "    <tr>\n",
       "      <th>0</th>\n",
       "      <td>[0, 0, 0, 0, 198, 255, 255, 255, 255, 255, 255...</td>\n",
       "      <td>3</td>\n",
       "      <td>3</td>\n",
       "    </tr>\n",
       "    <tr>\n",
       "      <th>1</th>\n",
       "      <td>[0, 0, 0, 0, 0, 115, 255, 255, 255, 255, 255, ...</td>\n",
       "      <td>3</td>\n",
       "      <td>3</td>\n",
       "    </tr>\n",
       "    <tr>\n",
       "      <th>2</th>\n",
       "      <td>[0, 0, 0, 0, 0, 0, 0, 0, 0, 0, 0, 0, 0, 0, 0, ...</td>\n",
       "      <td></td>\n",
       "      <td>2</td>\n",
       "    </tr>\n",
       "    <tr>\n",
       "      <th>3</th>\n",
       "      <td>[0, 0, 0, 0, 0, 0, 0, 0, 0, 0, 0, 0, 0, 0, 0, ...</td>\n",
       "      <td>2</td>\n",
       "      <td>4</td>\n",
       "    </tr>\n",
       "    <tr>\n",
       "      <th>4</th>\n",
       "      <td>[0, 0, 0, 0, 0, 0, 0, 0, 0, 0, 0, 0, 0, 0, 0, ...</td>\n",
       "      <td>9</td>\n",
       "      <td>1</td>\n",
       "    </tr>\n",
       "  </tbody>\n",
       "</table>\n",
       "</div>"
      ],
      "text/plain": [
       "                                               array label  prediction\n",
       "0  [0, 0, 0, 0, 198, 255, 255, 255, 255, 255, 255...     3           3\n",
       "1  [0, 0, 0, 0, 0, 115, 255, 255, 255, 255, 255, ...     3           3\n",
       "2  [0, 0, 0, 0, 0, 0, 0, 0, 0, 0, 0, 0, 0, 0, 0, ...                 2\n",
       "3  [0, 0, 0, 0, 0, 0, 0, 0, 0, 0, 0, 0, 0, 0, 0, ...     2           4\n",
       "4  [0, 0, 0, 0, 0, 0, 0, 0, 0, 0, 0, 0, 0, 0, 0, ...     9           1"
      ]
     },
     "execution_count": 189,
     "metadata": {},
     "output_type": "execute_result"
    }
   ],
   "source": [
    "digit_result.head()"
   ]
  },
  {
   "cell_type": "code",
   "execution_count": 191,
   "metadata": {
    "scrolled": true
   },
   "outputs": [
    {
     "data": {
      "text/html": [
       "<div>\n",
       "<style>\n",
       "    .dataframe thead tr:only-child th {\n",
       "        text-align: right;\n",
       "    }\n",
       "\n",
       "    .dataframe thead th {\n",
       "        text-align: left;\n",
       "    }\n",
       "\n",
       "    .dataframe tbody tr th {\n",
       "        vertical-align: top;\n",
       "    }\n",
       "</style>\n",
       "<table border=\"1\" class=\"dataframe\">\n",
       "  <thead>\n",
       "    <tr style=\"text-align: right;\">\n",
       "      <th></th>\n",
       "      <th>array</th>\n",
       "      <th>label</th>\n",
       "      <th>prediction</th>\n",
       "    </tr>\n",
       "  </thead>\n",
       "  <tbody>\n",
       "    <tr>\n",
       "      <th>0</th>\n",
       "      <td>[0, 0, 0, 0, 198, 255, 255, 255, 255, 255, 255...</td>\n",
       "      <td>3</td>\n",
       "      <td>3</td>\n",
       "    </tr>\n",
       "    <tr>\n",
       "      <th>1</th>\n",
       "      <td>[0, 0, 0, 0, 0, 115, 255, 255, 255, 255, 255, ...</td>\n",
       "      <td>3</td>\n",
       "      <td>3</td>\n",
       "    </tr>\n",
       "    <tr>\n",
       "      <th>2</th>\n",
       "      <td>[0, 0, 0, 0, 0, 0, 0, 0, 0, 0, 0, 0, 0, 0, 0, ...</td>\n",
       "      <td></td>\n",
       "      <td>2</td>\n",
       "    </tr>\n",
       "    <tr>\n",
       "      <th>3</th>\n",
       "      <td>[0, 0, 0, 0, 0, 0, 0, 0, 0, 0, 0, 0, 0, 0, 0, ...</td>\n",
       "      <td>2</td>\n",
       "      <td>4</td>\n",
       "    </tr>\n",
       "    <tr>\n",
       "      <th>4</th>\n",
       "      <td>[0, 0, 0, 0, 0, 0, 0, 0, 0, 0, 0, 0, 0, 0, 0, ...</td>\n",
       "      <td>9</td>\n",
       "      <td>1</td>\n",
       "    </tr>\n",
       "  </tbody>\n",
       "</table>\n",
       "</div>"
      ],
      "text/plain": [
       "                                               array label  prediction\n",
       "0  [0, 0, 0, 0, 198, 255, 255, 255, 255, 255, 255...     3           3\n",
       "1  [0, 0, 0, 0, 0, 115, 255, 255, 255, 255, 255, ...     3           3\n",
       "2  [0, 0, 0, 0, 0, 0, 0, 0, 0, 0, 0, 0, 0, 0, 0, ...                 2\n",
       "3  [0, 0, 0, 0, 0, 0, 0, 0, 0, 0, 0, 0, 0, 0, 0, ...     2           4\n",
       "4  [0, 0, 0, 0, 0, 0, 0, 0, 0, 0, 0, 0, 0, 0, 0, ...     9           1"
      ]
     },
     "execution_count": 191,
     "metadata": {},
     "output_type": "execute_result"
    }
   ],
   "source": [
    "digit_result['prediction'] = knn.predict(list(digit_result['array']))\n",
    "digit_result.head()"
   ]
  },
  {
   "cell_type": "code",
   "execution_count": 192,
   "metadata": {},
   "outputs": [
    {
     "name": "stdout",
     "output_type": "stream",
     "text": [
      "Accuracy score digits per digits: 0.2526997840172786\n",
      "Number of rightly classified digits: 117\n"
     ]
    }
   ],
   "source": [
    "digit_test = digit_result[digit_result.label != ' '].copy()\n",
    "digit_test['label'] = [int(digit) for digit in digit_test['label']]\n",
    "digit_test['error'] = abs(digit_test['label'] - digit_test['prediction'] )\n",
    "\n",
    "print('Accuracy score digits per digits:', accuracy_score(digit_test['label'], digit_test['prediction']))\n",
    "print('Number of rightly classified digits:', sum(digit_test['error'] ==0 ))\n"
   ]
  },
  {
   "cell_type": "code",
   "execution_count": 1,
   "metadata": {},
   "outputs": [
    {
     "data": {
      "text/plain": [
       "0.8041666666666667"
      ]
     },
     "execution_count": 1,
     "metadata": {},
     "output_type": "execute_result"
    }
   ],
   "source": [
    "193/240"
   ]
  },
  {
   "cell_type": "code",
   "execution_count": 2,
   "metadata": {},
   "outputs": [
    {
     "data": {
      "text/plain": [
       "0.19166666666666668"
      ]
     },
     "execution_count": 2,
     "metadata": {},
     "output_type": "execute_result"
    }
   ],
   "source": [
    "46/240"
   ]
  },
  {
   "cell_type": "code",
   "execution_count": 11,
   "metadata": {},
   "outputs": [
    {
     "data": {
      "text/plain": [
       "0.192"
      ]
     },
     "execution_count": 11,
     "metadata": {},
     "output_type": "execute_result"
    }
   ],
   "source": [
    "0.24*0.8"
   ]
  },
  {
   "cell_type": "code",
   "execution_count": 8,
   "metadata": {},
   "outputs": [
    {
     "data": {
      "text/plain": [
       "0.23834196891191708"
      ]
     },
     "execution_count": 8,
     "metadata": {},
     "output_type": "execute_result"
    }
   ],
   "source": [
    "46/193.0"
   ]
  },
  {
   "cell_type": "code",
   "execution_count": 9,
   "metadata": {},
   "outputs": [
    {
     "data": {
      "text/plain": [
       "0.23958333333333334"
      ]
     },
     "execution_count": 9,
     "metadata": {},
     "output_type": "execute_result"
    }
   ],
   "source": [
    "46/(0.8*240)"
   ]
  },
  {
   "cell_type": "code",
   "execution_count": 5,
   "metadata": {},
   "outputs": [
    {
     "data": {
      "text/plain": [
       "211.9815668202765"
      ]
     },
     "execution_count": 5,
     "metadata": {},
     "output_type": "execute_result"
    }
   ],
   "source": [
    "46/0.217"
   ]
  },
  {
   "cell_type": "code",
   "execution_count": 6,
   "metadata": {},
   "outputs": [
    {
     "data": {
      "text/plain": [
       "0.8772727272727273"
      ]
     },
     "execution_count": 6,
     "metadata": {},
     "output_type": "execute_result"
    }
   ],
   "source": [
    "1-0.12272727272727273"
   ]
  },
  {
   "cell_type": "code",
   "execution_count": 7,
   "metadata": {},
   "outputs": [
    {
     "data": {
      "text/plain": [
       "193.0"
      ]
     },
     "execution_count": 7,
     "metadata": {},
     "output_type": "execute_result"
    }
   ],
   "source": [
    "0.8772727272727273 * 220"
   ]
  }
 ],
 "metadata": {
  "kernelspec": {
   "display_name": "Python 3",
   "language": "python",
   "name": "python3"
  },
  "language_info": {
   "codemirror_mode": {
    "name": "ipython",
    "version": 3
   },
   "file_extension": ".py",
   "mimetype": "text/x-python",
   "name": "python",
   "nbconvert_exporter": "python",
   "pygments_lexer": "ipython3",
   "version": "3.6.2"
  }
 },
 "nbformat": 4,
 "nbformat_minor": 2
}

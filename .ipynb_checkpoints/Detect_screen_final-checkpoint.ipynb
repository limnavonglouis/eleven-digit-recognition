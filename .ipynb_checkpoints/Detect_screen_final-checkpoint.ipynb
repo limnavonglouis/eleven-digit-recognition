{
 "cells": [
  {
   "cell_type": "markdown",
   "metadata": {},
   "source": [
    "Finding the screen containing images on a picture showing a monitoring device"
   ]
  },
  {
   "cell_type": "code",
   "execution_count": 1,
   "metadata": {
    "collapsed": true
   },
   "outputs": [],
   "source": [
    "# import the necessary packages\n",
    "from imutils.perspective import four_point_transform\n",
    "from imutils import contours\n",
    "import imutils\n",
    "import cv2\n",
    "import pandas as pd\n",
    "from matplotlib import pyplot as plt\n",
    "import numpy as np\n",
    "import argparse"
   ]
  },
  {
   "cell_type": "code",
   "execution_count": 2,
   "metadata": {
    "collapsed": true
   },
   "outputs": [],
   "source": [
    "data = pd.read_csv('HQ_quality.csv', sep=';', index_col=0)"
   ]
  },
  {
   "cell_type": "raw",
   "metadata": {},
   "source": [
    "counter = 0\n",
    "for i in range(data.shape[0]):\n",
    "    print(i)\n",
    "    image_name = 'HQ_digital/' + data.loc[i, 'image']\n",
    "        # load the image\n",
    "    image = cv2.imread(image_name)\n",
    "    image = imutils.resize(image.copy(), height=500)\n",
    "    gray = cv2.cvtColor(image, cv2.COLOR_BGR2GRAY)\n",
    "    ret,thresh = cv2.threshold(gray,127,255,1)\n",
    "    a,cnts,h = cv2.findContours(thresh,1,2)\n",
    "    cnts = sorted(cnts, key=cv2.contourArea, reverse=True)\n",
    "    displayCnt = None\n",
    "\n",
    "    for cnt in cnts:\n",
    "        approx = cv2.approxPolyDP(cnt,0.01*cv2.arcLength(cnt,True),True)\n",
    "        if len(approx)==4 and cv2.contourArea(approx) > 100*200 :\n",
    "            warped = four_point_transform(gray, approx.reshape(4, 2))\n",
    "            counter += 1\n",
    "            plt.imshow(warped,cmap = 'gray')\n",
    "            plt.show()\n",
    "            break"
   ]
  }
 ],
 "metadata": {
  "kernelspec": {
   "display_name": "Python 3",
   "language": "python",
   "name": "python3"
  },
  "language_info": {
   "codemirror_mode": {
    "name": "ipython",
    "version": 3
   },
   "file_extension": ".py",
   "mimetype": "text/x-python",
   "name": "python",
   "nbconvert_exporter": "python",
   "pygments_lexer": "ipython3",
   "version": "3.6.2"
  }
 },
 "nbformat": 4,
 "nbformat_minor": 2
}

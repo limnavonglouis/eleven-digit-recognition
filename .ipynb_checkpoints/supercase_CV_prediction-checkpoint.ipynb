{
 "cells": [
  {
   "cell_type": "markdown",
   "metadata": {},
   "source": [
    "Ref. https://www.pyimagesearch.com/2017/02/13/recognizing-digits-with-opencv-and-python/"
   ]
  },
  {
   "cell_type": "code",
   "execution_count": 1,
   "metadata": {
    "collapsed": true
   },
   "outputs": [],
   "source": [
    "from imutils.perspective import four_point_transform\n",
    "from imutils import contours\n",
    "import imutils\n",
    "import cv2\n",
    "import pandas as pd\n",
    "from matplotlib import pyplot as plt\n",
    "import numpy as np\n",
    "import os\n",
    "from sklearn.model_selection import train_test_split\n",
    "from sklearn.neighbors import KNeighborsClassifier\n",
    "from sklearn.externals import joblib\n",
    "import random\n",
    "from scipy import ndarray\n",
    "import skimage as sk"
   ]
  },
  {
   "cell_type": "code",
   "execution_count": 2,
   "metadata": {
    "collapsed": true
   },
   "outputs": [],
   "source": [
    "import uuid\n",
    "from sklearn.ensemble import GradientBoostingClassifier"
   ]
  },
  {
   "cell_type": "code",
   "execution_count": 3,
   "metadata": {
    "collapsed": true
   },
   "outputs": [],
   "source": [
    "from imutils.perspective import four_point_transform\n",
    "from imutils import contours\n",
    "import imutils\n",
    "import cv2\n",
    "import pandas as pd\n",
    "from matplotlib import pyplot as plt\n",
    "import numpy as np\n",
    "from PIL import Image\n",
    "\n",
    "data = pd.read_csv('HQ_quality.csv', sep=';', index_col=0)"
   ]
  },
  {
   "cell_type": "code",
   "execution_count": 4,
   "metadata": {
    "collapsed": true
   },
   "outputs": [],
   "source": [
    "#Run this function first\n",
    "def preprocess_and_find_display(image):\n",
    "    \n",
    "    image = imutils.resize(image.copy(), height=500)\n",
    "    gray = cv2.cvtColor(image, cv2.COLOR_BGR2GRAY)\n",
    "    ret,thresh = cv2.threshold(gray,127,255,1)\n",
    "    a,cnts,h = cv2.findContours(thresh,1,2)\n",
    "    cnts = sorted(cnts, key=cv2.contourArea, reverse=True)\n",
    "    displayCnt = None\n",
    "\n",
    "    for cnt in cnts:\n",
    "        approx = cv2.approxPolyDP(cnt,0.01*cv2.arcLength(cnt,True),True)\n",
    "        if len(approx)==4 and cv2.contourArea(approx) > 100*200 :\n",
    "            displayCnt = approx\n",
    "            #warped = four_point_transform(gray, approx.reshape(4, 2))\n",
    "            #plt.imshow(warped,cmap = 'gray')\n",
    "            #plt.show()\n",
    "            break\n",
    "            \n",
    "    # extract the thermostat display, apply a perspective transform\n",
    "    # to it\n",
    "    warped = four_point_transform(gray, displayCnt.reshape(4, 2))\n",
    "    output = four_point_transform(image, displayCnt.reshape(4, 2))\n",
    "    #plt.imshow(warped,cmap = 'gray')\n",
    "    #plt.show()\n",
    "    \n",
    "    return warped, output"
   ]
  },
  {
   "cell_type": "code",
   "execution_count": 5,
   "metadata": {
    "collapsed": true
   },
   "outputs": [],
   "source": [
    "# CROPPING\n",
    "def crop_image(screen):\n",
    "    image_width = screen.shape[1]\n",
    "    cropped_screen = screen[10:160, 10:(round((3/5)*image_width))]\n",
    "    return cropped_screen"
   ]
  },
  {
   "cell_type": "code",
   "execution_count": 6,
   "metadata": {
    "collapsed": true
   },
   "outputs": [],
   "source": [
    "def split_image(cropped):\n",
    "    \n",
    "    h,width = cropped.shape\n",
    "    warped_1 = cropped[:, -round(width/4):]\n",
    "    warped_2 = cropped[:, -2*round(width/4):-round(width/4):]\n",
    "    warped_3 = cropped[:, -3*round(width/4):-2*round(width/4):]\n",
    "    warped_4 = cropped[:, :-3*round(width/4):]\n",
    "    result = [warped_4, warped_3, warped_2, warped_1]\n",
    "    return result "
   ]
  },
  {
   "cell_type": "code",
   "execution_count": 7,
   "metadata": {
    "collapsed": true
   },
   "outputs": [],
   "source": [
    "def digits_loc(i, h_noise, h_2, lowThreshold, b, c, t, t_2):\n",
    "    \n",
    "    \n",
    "    image = cv2.imread('HQ_digital/' + data.loc[i, 'image'])\n",
    "    image_name = data.loc[i, 'image']\n",
    "    # pre-process the image\n",
    "    warped, output = preprocess_and_find_display(image)\n",
    "    \n",
    "    cropped = crop_image(warped)\n",
    "    separated_images = split_image(cropped)\n",
    "     \n",
    "    return (image_name, separated_images)\n",
    "    "
   ]
  },
  {
   "cell_type": "code",
   "execution_count": 8,
   "metadata": {
    "collapsed": true
   },
   "outputs": [],
   "source": [
    "def digits_clean_loc(i, h_noise, h_2, lowThreshold, b, c, t, t_2):\n",
    "    \n",
    "    \n",
    "    image = cv2.imread('HQ_digital/' + data.loc[i, 'image'])\n",
    "    image_name = data.loc[i, 'image']\n",
    "    # pre-process the image\n",
    "    warped, output = preprocess_and_find_display(image)\n",
    "    \n",
    "    #cropped = crop_image(warped)\n",
    "    #separated_images = split_image(cropped)\n",
    "    \n",
    "    digits = crop_digits(warped)\n",
    "    digits_clean, n = clean_digits(digits, th_pix_blanc_tot, th_pix_blanc_sup)\n",
    "    #pixels_test.append(digits_clean)\n",
    "    \n",
    "    return (image_name, digits_clean)\n",
    "    "
   ]
  },
  {
   "cell_type": "code",
   "execution_count": 9,
   "metadata": {
    "collapsed": true
   },
   "outputs": [],
   "source": [
    "def crop_digits(image):\n",
    "    digits = []\n",
    "    image_width = image.shape[1]\n",
    "    cropped = image[10:160, 10:(round((3/5)*image_width))]\n",
    "    width = cropped.shape[1]\n",
    "    w_1 = cropped[:, -round(width/4):]\n",
    "    w_2 = cropped[:, -2*round(width/4):-round(width/4):]\n",
    "    w_3 = cropped[:, -3*round(width/4):-2*round(width/4):]\n",
    "    w_4 = cropped[:, :-3*round(width/4):]\n",
    "    digits.append(w_1)\n",
    "    digits.append(w_2)\n",
    "    digits.append(w_3)\n",
    "    digits.append(w_4)\n",
    "    return digits\n",
    "\n",
    "def suppress_black_contour(image, th_pix_blanc):\n",
    "    h, w = image.shape\n",
    "    nb_pix_rect = 0 # left crop\n",
    "    x = 0\n",
    "    while nb_pix_rect <th_pix_blanc:\n",
    "        left_rect = image[:,:x]\n",
    "        nb_pix_rect = np.sum(left_rect == 255)\n",
    "        x += 1\n",
    "    img = image[:, x +1 :]\n",
    "    nb_pix_rect = 0 # right crop\n",
    "    x = 0\n",
    "    while nb_pix_rect <th_pix_blanc:\n",
    "        right_rect = image[:,w-x:]\n",
    "        nb_pix_rect = np.sum(right_rect == 255)\n",
    "        x += 1\n",
    "    img = img[:, :w-x +1]\n",
    "    nb_pix_rect = 0  # top crop\n",
    "    x = 0\n",
    "    while nb_pix_rect <th_pix_blanc/3:\n",
    "        top_rect = image[h-x +1:,:]\n",
    "        nb_pix_rect = np.sum(top_rect == 255)\n",
    "        x += 1\n",
    "    img = img[:h-x, :]\n",
    "    nb_pix_rect = 0 # bottom crop\n",
    "    x = 0\n",
    "    while nb_pix_rect <th_pix_blanc/3:\n",
    "        bot_rect = image[:x,:]\n",
    "        nb_pix_rect = np.sum(bot_rect == 255)\n",
    "        x += 1\n",
    "    img = img[x+1:, :]\n",
    "    return img\n",
    "\n",
    "def clean_digits(digits, th_pix_blanc_tot, th_pix_blanc_sup):\n",
    "    digits_clean = []\n",
    "    stop = 0\n",
    "    nb_digits = 0\n",
    "    for i in range(4):\n",
    "        image = digits[i]\n",
    "        #image = cv2.cvtColor(digits[i], cv2.COLOR_BGR2GRAY)\n",
    "        blurred = cv2.bilateralFilter(image, 10, 10, 100)\n",
    "        thresh = cv2.adaptiveThreshold(blurred, 255, cv2.ADAPTIVE_THRESH_GAUSSIAN_C,\n",
    "                                   cv2.THRESH_BINARY, 17, 2)\n",
    "        inv = cv2.bitwise_not(thresh)\n",
    "        kernel = np.ones((7,7), np.uint8)\n",
    "        closing = cv2.morphologyEx(inv, cv2.MORPH_CLOSE, kernel)\n",
    "        dilatation = cv2.dilate(closing, np.ones((3,3), np.uint8), iterations = 2)\n",
    "        plt.imshow(dilatation, cmap = \"gray\")\n",
    "        k = np.sum(dilatation == 255)\n",
    "        #print(k)\n",
    "        if k > th_pix_blanc_tot and stop == 0:\n",
    "            im2 = suppress_black_contour(dilatation, th_pix_blanc_sup)\n",
    "            h, w = im2.shape\n",
    "            if h> 80 and w >25: # pour ne pas garder les petits coins d'images tout blancs\n",
    "                im3 = cv2.resize(im2, (80,50)).flatten()\n",
    "                digits_clean.append(im3)\n",
    "                #plt.imshow(im2,cmap = \"gray\")\n",
    "                #plt.show()\n",
    "                nb_digits +=1\n",
    "            else:\n",
    "                stop = 1\n",
    "        digits_clean = digits_clean[::-1]\n",
    "    return digits_clean, nb_digits"
   ]
  },
  {
   "cell_type": "code",
   "execution_count": 10,
   "metadata": {
    "collapsed": true
   },
   "outputs": [],
   "source": [
    "###### PARAMETERS TO CHOOSE #######\n",
    "i = 0\n",
    "h_noise = 10 # noise coefficient\n",
    "h_2 = 15\n",
    "lowThreshold = 50 # canny edge detection\n",
    "b = 200 # brightness\n",
    "c = 120  # contrast\n",
    "t = 150 # threshold to separate white/black\n",
    "t_2 = 150\n",
    "th_pix_blanc_tot = 150\n",
    "th_pix_blanc_sup = 60"
   ]
  },
  {
   "cell_type": "code",
   "execution_count": 11,
   "metadata": {},
   "outputs": [
    {
     "data": {
      "text/plain": [
       "220"
      ]
     },
     "execution_count": 11,
     "metadata": {},
     "output_type": "execute_result"
    }
   ],
   "source": [
    "list_images = []\n",
    "for i in range(0, data.shape[0]):\n",
    "    # print(i)\n",
    "    try:\n",
    "        list_images.append(digits_loc(i,10,15,50,200,120,150,150))\n",
    "    except AttributeError:\n",
    "        pass\n",
    "len(list_images)"
   ]
  },
  {
   "cell_type": "code",
   "execution_count": 12,
   "metadata": {
    "scrolled": true
   },
   "outputs": [
    {
     "data": {
      "text/html": [
       "<div>\n",
       "<style scoped>\n",
       "    .dataframe tbody tr th:only-of-type {\n",
       "        vertical-align: middle;\n",
       "    }\n",
       "\n",
       "    .dataframe tbody tr th {\n",
       "        vertical-align: top;\n",
       "    }\n",
       "\n",
       "    .dataframe thead th {\n",
       "        text-align: right;\n",
       "    }\n",
       "</style>\n",
       "<table border=\"1\" class=\"dataframe\">\n",
       "  <thead>\n",
       "    <tr style=\"text-align: right;\">\n",
       "      <th></th>\n",
       "      <th>image</th>\n",
       "      <th>arrays</th>\n",
       "    </tr>\n",
       "  </thead>\n",
       "  <tbody>\n",
       "    <tr>\n",
       "      <th>0</th>\n",
       "      <td>e104664ba1792dde641d87cd5d95f1df06786140.jpg</td>\n",
       "      <td>[[[42, 42, 42, 42, 39, 39, 41, 40, 36, 36, 36,...</td>\n",
       "    </tr>\n",
       "    <tr>\n",
       "      <th>1</th>\n",
       "      <td>48990b5cbe173868040bd33f06fb1b80c2b4f28a.jpg</td>\n",
       "      <td>[[[35, 35, 35, 32, 30, 31, 32, 31, 32, 34, 36,...</td>\n",
       "    </tr>\n",
       "    <tr>\n",
       "      <th>2</th>\n",
       "      <td>9e111802446b62b86aeffe911415ad28227caba7.jpg</td>\n",
       "      <td>[[[34, 33, 34, 34, 34, 32, 33, 35, 35, 35, 36,...</td>\n",
       "    </tr>\n",
       "    <tr>\n",
       "      <th>3</th>\n",
       "      <td>f78fe5a461f28bc770a7dd856878bb4a314a9027.jpg</td>\n",
       "      <td>[[[0, 0, 0, 0, 0, 0, 0, 0, 0, 0, 0, 0, 0, 0, 0...</td>\n",
       "    </tr>\n",
       "    <tr>\n",
       "      <th>4</th>\n",
       "      <td>c836ea17748e562c99f93edc51f2b900664ec37d.jpg</td>\n",
       "      <td>[[[30, 32, 32, 32, 32, 27, 27, 32, 32, 31, 34,...</td>\n",
       "    </tr>\n",
       "  </tbody>\n",
       "</table>\n",
       "</div>"
      ],
      "text/plain": [
       "                                          image  \\\n",
       "0  e104664ba1792dde641d87cd5d95f1df06786140.jpg   \n",
       "1  48990b5cbe173868040bd33f06fb1b80c2b4f28a.jpg   \n",
       "2  9e111802446b62b86aeffe911415ad28227caba7.jpg   \n",
       "3  f78fe5a461f28bc770a7dd856878bb4a314a9027.jpg   \n",
       "4  c836ea17748e562c99f93edc51f2b900664ec37d.jpg   \n",
       "\n",
       "                                              arrays  \n",
       "0  [[[42, 42, 42, 42, 39, 39, 41, 40, 36, 36, 36,...  \n",
       "1  [[[35, 35, 35, 32, 30, 31, 32, 31, 32, 34, 36,...  \n",
       "2  [[[34, 33, 34, 34, 34, 32, 33, 35, 35, 35, 36,...  \n",
       "3  [[[0, 0, 0, 0, 0, 0, 0, 0, 0, 0, 0, 0, 0, 0, 0...  \n",
       "4  [[[30, 32, 32, 32, 32, 27, 27, 32, 32, 31, 34,...  "
      ]
     },
     "execution_count": 12,
     "metadata": {},
     "output_type": "execute_result"
    }
   ],
   "source": [
    "new_data = pd.DataFrame(list_images, columns = ['image', 'arrays'])\n",
    "new_data.head()"
   ]
  },
  {
   "cell_type": "code",
   "execution_count": 13,
   "metadata": {},
   "outputs": [
    {
     "data": {
      "text/html": [
       "<div>\n",
       "<style scoped>\n",
       "    .dataframe tbody tr th:only-of-type {\n",
       "        vertical-align: middle;\n",
       "    }\n",
       "\n",
       "    .dataframe tbody tr th {\n",
       "        vertical-align: top;\n",
       "    }\n",
       "\n",
       "    .dataframe thead th {\n",
       "        text-align: right;\n",
       "    }\n",
       "</style>\n",
       "<table border=\"1\" class=\"dataframe\">\n",
       "  <thead>\n",
       "    <tr style=\"text-align: right;\">\n",
       "      <th></th>\n",
       "      <th>used_liter</th>\n",
       "      <th>image</th>\n",
       "      <th>used_liter2</th>\n",
       "      <th>arrays</th>\n",
       "    </tr>\n",
       "  </thead>\n",
       "  <tbody>\n",
       "    <tr>\n",
       "      <th>0</th>\n",
       "      <td>33</td>\n",
       "      <td>e104664ba1792dde641d87cd5d95f1df06786140.jpg</td>\n",
       "      <td>33</td>\n",
       "      <td>[[[42, 42, 42, 42, 39, 39, 41, 40, 36, 36, 36,...</td>\n",
       "    </tr>\n",
       "    <tr>\n",
       "      <th>1</th>\n",
       "      <td>29</td>\n",
       "      <td>48990b5cbe173868040bd33f06fb1b80c2b4f28a.jpg</td>\n",
       "      <td>29</td>\n",
       "      <td>[[[35, 35, 35, 32, 30, 31, 32, 31, 32, 34, 36,...</td>\n",
       "    </tr>\n",
       "    <tr>\n",
       "      <th>2</th>\n",
       "      <td>230</td>\n",
       "      <td>9e111802446b62b86aeffe911415ad28227caba7.jpg</td>\n",
       "      <td>230</td>\n",
       "      <td>[[[34, 33, 34, 34, 34, 32, 33, 35, 35, 35, 36,...</td>\n",
       "    </tr>\n",
       "    <tr>\n",
       "      <th>3</th>\n",
       "      <td>43</td>\n",
       "      <td>f78fe5a461f28bc770a7dd856878bb4a314a9027.jpg</td>\n",
       "      <td>43</td>\n",
       "      <td>[[[0, 0, 0, 0, 0, 0, 0, 0, 0, 0, 0, 0, 0, 0, 0...</td>\n",
       "    </tr>\n",
       "    <tr>\n",
       "      <th>4</th>\n",
       "      <td>238</td>\n",
       "      <td>c836ea17748e562c99f93edc51f2b900664ec37d.jpg</td>\n",
       "      <td>238</td>\n",
       "      <td>[[[30, 32, 32, 32, 32, 27, 27, 32, 32, 31, 34,...</td>\n",
       "    </tr>\n",
       "  </tbody>\n",
       "</table>\n",
       "</div>"
      ],
      "text/plain": [
       "   used_liter                                         image used_liter2  \\\n",
       "0          33  e104664ba1792dde641d87cd5d95f1df06786140.jpg          33   \n",
       "1          29  48990b5cbe173868040bd33f06fb1b80c2b4f28a.jpg          29   \n",
       "2         230  9e111802446b62b86aeffe911415ad28227caba7.jpg         230   \n",
       "3          43  f78fe5a461f28bc770a7dd856878bb4a314a9027.jpg          43   \n",
       "4         238  c836ea17748e562c99f93edc51f2b900664ec37d.jpg         238   \n",
       "\n",
       "                                              arrays  \n",
       "0  [[[42, 42, 42, 42, 39, 39, 41, 40, 36, 36, 36,...  \n",
       "1  [[[35, 35, 35, 32, 30, 31, 32, 31, 32, 34, 36,...  \n",
       "2  [[[34, 33, 34, 34, 34, 32, 33, 35, 35, 35, 36,...  \n",
       "3  [[[0, 0, 0, 0, 0, 0, 0, 0, 0, 0, 0, 0, 0, 0, 0...  \n",
       "4  [[[30, 32, 32, 32, 32, 27, 27, 32, 32, 31, 34,...  "
      ]
     },
     "execution_count": 13,
     "metadata": {},
     "output_type": "execute_result"
    }
   ],
   "source": [
    "def new_labels(old_label):\n",
    "    number_str = str(old_label)\n",
    "    if len(number_str) == 1:\n",
    "        return '   ' + number_str\n",
    "    if len(number_str) == 2:\n",
    "        return '  ' + number_str\n",
    "    if len(number_str) == 3:\n",
    "        return ' ' + number_str\n",
    "    if len(number_str) == 4:\n",
    "        return number_str\n",
    "    \n",
    "#define new column for the labels, where each of the label is a string of length 4\n",
    "data['used_liter2'] = data['used_liter'].apply(lambda x: new_labels(x))\n",
    "full_data = pd.merge(data, new_data, on= 'image').copy()\n",
    "full_data.head()"
   ]
  },
  {
   "cell_type": "code",
   "execution_count": 14,
   "metadata": {
    "collapsed": true
   },
   "outputs": [],
   "source": [
    "digit_data = full_data[['used_liter2','arrays']]\n",
    "digit_label = [small_number for big_number in digit_data['used_liter2'] for small_number in big_number]\n",
    "digit_array = [array for list_of_arrays in digit_data['arrays'] for array in list_of_arrays]"
   ]
  },
  {
   "cell_type": "code",
   "execution_count": 15,
   "metadata": {},
   "outputs": [
    {
     "data": {
      "text/html": [
       "<div>\n",
       "<style scoped>\n",
       "    .dataframe tbody tr th:only-of-type {\n",
       "        vertical-align: middle;\n",
       "    }\n",
       "\n",
       "    .dataframe tbody tr th {\n",
       "        vertical-align: top;\n",
       "    }\n",
       "\n",
       "    .dataframe thead th {\n",
       "        text-align: right;\n",
       "    }\n",
       "</style>\n",
       "<table border=\"1\" class=\"dataframe\">\n",
       "  <thead>\n",
       "    <tr style=\"text-align: right;\">\n",
       "      <th></th>\n",
       "      <th>label</th>\n",
       "      <th>array</th>\n",
       "    </tr>\n",
       "  </thead>\n",
       "  <tbody>\n",
       "    <tr>\n",
       "      <th>0</th>\n",
       "      <td></td>\n",
       "      <td>[[42, 42, 42, 42, 39, 39, 41, 40, 36, 36, 36, ...</td>\n",
       "    </tr>\n",
       "    <tr>\n",
       "      <th>1</th>\n",
       "      <td></td>\n",
       "      <td>[[52, 52, 48, 49, 52, 51, 50, 50, 50, 51, 51, ...</td>\n",
       "    </tr>\n",
       "    <tr>\n",
       "      <th>2</th>\n",
       "      <td>3</td>\n",
       "      <td>[[46, 45, 45, 49, 50, 51, 51, 48, 47, 46, 48, ...</td>\n",
       "    </tr>\n",
       "    <tr>\n",
       "      <th>3</th>\n",
       "      <td>3</td>\n",
       "      <td>[[40, 40, 40, 40, 40, 39, 36, 38, 38, 38, 40, ...</td>\n",
       "    </tr>\n",
       "    <tr>\n",
       "      <th>4</th>\n",
       "      <td></td>\n",
       "      <td>[[35, 35, 35, 32, 30, 31, 32, 31, 32, 34, 36, ...</td>\n",
       "    </tr>\n",
       "  </tbody>\n",
       "</table>\n",
       "</div>"
      ],
      "text/plain": [
       "  label                                              array\n",
       "0        [[42, 42, 42, 42, 39, 39, 41, 40, 36, 36, 36, ...\n",
       "1        [[52, 52, 48, 49, 52, 51, 50, 50, 50, 51, 51, ...\n",
       "2     3  [[46, 45, 45, 49, 50, 51, 51, 48, 47, 46, 48, ...\n",
       "3     3  [[40, 40, 40, 40, 40, 39, 36, 38, 38, 38, 40, ...\n",
       "4        [[35, 35, 35, 32, 30, 31, 32, 31, 32, 34, 36, ..."
      ]
     },
     "execution_count": 15,
     "metadata": {},
     "output_type": "execute_result"
    }
   ],
   "source": [
    "digit_result = pd.DataFrame(\n",
    "    {'label': digit_label,\n",
    "     'array': digit_array\n",
    "    })\n",
    "\n",
    "digit_result.head()"
   ]
  },
  {
   "cell_type": "code",
   "execution_count": 16,
   "metadata": {
    "collapsed": true
   },
   "outputs": [],
   "source": [
    "DIGITS_LOOKUP = {\n",
    "\t(1, 1, 1, 0, 1, 1, 1): 0,\n",
    "\t(0, 0, 1, 0, 0, 1, 0): 1,\n",
    "\t(1, 0, 1, 1, 1, 0, 1): 2,\n",
    "\t(1, 0, 1, 1, 0, 1, 1): 3,\n",
    "\t(0, 1, 1, 1, 0, 1, 0): 4,\n",
    "\t(1, 1, 0, 1, 0, 1, 1): 5,\n",
    "\t(1, 1, 0, 1, 1, 1, 1): 6,\n",
    "\t(1, 0, 1, 0, 0, 1, 0): 7,\n",
    "\t(1, 1, 1, 1, 1, 1, 1): 8,\n",
    "\t(1, 1, 1, 1, 0, 1, 1): 9\n",
    "}"
   ]
  },
  {
   "cell_type": "code",
   "execution_count": 108,
   "metadata": {
    "collapsed": true
   },
   "outputs": [],
   "source": [
    "def individual_prediction(roi, tresh_area):\n",
    "    w, h = (120,64)\n",
    "    (roiH, roiW) = roi.shape\n",
    "    (dW, dH) = (int(roiW * 0.25), int(roiH * 0.15))\n",
    "    dHC = int(roiH * 0.05)\n",
    "\n",
    "    # define the set of 7 segments\n",
    "    segments = [\n",
    "        ((0, 0), (w, dH)),\t# top\n",
    "        ((0, 0), (dW, h // 2)),\t# top-left\n",
    "        ((w - dW, 0), (w, h // 2)),\t# top-right\n",
    "        ((0, (h // 2) - dHC) , (w, (h // 2) + dHC)), # center\n",
    "        ((0, h // 2), (dW, h)),\t# bottom-left\n",
    "        ((w - dW, h // 2), (w, h)),\t# bottom-right\n",
    "        ((0, h - dH), (w, h))\t# bottom\n",
    "        ]\n",
    "    on_segments = [0] * len(segments)\n",
    "\n",
    "    # loop over the segments\n",
    "    for (i, ((xA, yA), (xB, yB))) in enumerate(segments):\n",
    "        # extract the segment ROI, count the total number of\n",
    "        # thresholded pixels in the segment, and then compute\n",
    "        # the area of the segment\n",
    "        segROI = roi[yA:yB, xA:xB]\n",
    "        # plt.imshow(segROI,cmap = \"gray\")\n",
    "        # plt.show()\n",
    "        total = cv2.countNonZero(segROI)\n",
    "        area = (xB - xA) * (yB - yA)\n",
    "\n",
    "        # if the total number of non-zero pixels is greater than\n",
    "        # 40% of the area, mark the segment as \"on\"\n",
    "        if total / float(area) > tresh_area:\n",
    "            on_segments[i]= 1\n",
    "    try:\n",
    "        digit = DIGITS_LOOKUP[tuple(on_segments)]\n",
    "    except KeyError:\n",
    "        digit = ''\n",
    "    \n",
    "    return digit "
   ]
  },
  {
   "cell_type": "code",
   "execution_count": 109,
   "metadata": {
    "scrolled": true
   },
   "outputs": [
    {
     "data": {
      "image/png": "[encoded data removed]",
      "text/plain": [
       "<Figure size 432x288 with 1 Axes>"
      ]
     },
     "metadata": {},
     "output_type": "display_data"
    }
   ],
   "source": [
    "test_array = digit_result.array[19]\n",
    "cv2.imwrite('color_img.jpg', test_array)\n",
    "test_image = cv2.imread('color_img.jpg')\n",
    "\n",
    "#from IPython.display import Image\n",
    "#Image(\"color_img.jpg\")\n",
    "\n",
    "#test_image = cv2.resize(test_image, (test_image.shape[0], test_image.shape[0]))\n",
    "gray = cv2.cvtColor(test_image, cv2.COLOR_BGR2GRAY)\n",
    "inv_image = cv2.threshold(gray, 25, 255, cv2.THRESH_BINARY_INV)[1]\n",
    "\n",
    "plt.imshow(inv_image, cmap = 'gray')\n",
    "plt.show()"
   ]
  },
  {
   "cell_type": "code",
   "execution_count": 110,
   "metadata": {},
   "outputs": [
    {
     "data": {
      "text/plain": [
       "''"
      ]
     },
     "execution_count": 110,
     "metadata": {},
     "output_type": "execute_result"
    }
   ],
   "source": [
    "individual_prediction(inv_image, 0.1)"
   ]
  },
  {
   "cell_type": "markdown",
   "metadata": {},
   "source": [
    "The format of the image is not adequate for CV prediction. "
   ]
  }
 ],
 "metadata": {
  "kernelspec": {
   "display_name": "Python 3",
   "language": "python",
   "name": "python3"
  },
  "language_info": {
   "codemirror_mode": {
    "name": "ipython",
    "version": 3
   },
   "file_extension": ".py",
   "mimetype": "text/x-python",
   "name": "python",
   "nbconvert_exporter": "python",
   "pygments_lexer": "ipython3",
   "version": "3.6.2"
  }
 },
 "nbformat": 4,
 "nbformat_minor": 2
}
